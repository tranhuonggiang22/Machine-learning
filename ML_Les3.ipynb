{
  "nbformat": 4,
  "nbformat_minor": 0,
  "metadata": {
    "colab": {
      "name": "ML_Les3.ipynb",
      "provenance": [],
      "collapsed_sections": [],
      "mount_file_id": "1fFgvrUN_nuPsqoAKQb71ROAw9HMFdVv6",
      "authorship_tag": "ABX9TyOVwfC7KIA75EfqHH8z58i8",
      "include_colab_link": true
    },
    "kernelspec": {
      "name": "python3",
      "display_name": "Python 3"
    },
    "language_info": {
      "name": "python"
    }
  },
  "cells": [
    {
      "cell_type": "markdown",
      "metadata": {
        "id": "view-in-github",
        "colab_type": "text"
      },
      "source": [
        "<a href=\"https://colab.research.google.com/github/tranhuonggiang22/Machine-learning/blob/main/ML_Les3.ipynb\" target=\"_parent\"><img src=\"https://colab.research.google.com/assets/colab-badge.svg\" alt=\"Open In Colab\"/></a>"
      ]
    },
    {
      "cell_type": "markdown",
      "metadata": {
        "id": "9SUtTc8lTs1p"
      },
      "source": [
        "**Ex2**"
      ]
    },
    {
      "cell_type": "code",
      "metadata": {
        "id": "wCF_cDosMpl9"
      },
      "source": [
        "import numpy as np\n",
        "import pandas as pd\n",
        "import matplotlib.pyplot as plt\n",
        "from sklearn.linear_model import LinearRegression"
      ],
      "execution_count": 57,
      "outputs": []
    },
    {
      "cell_type": "code",
      "metadata": {
        "id": "Vrk4HuIBM5cy"
      },
      "source": [
        "dt = pd.read_csv('/content/drive/MyDrive/Machine Learning/data_linear.csv')"
      ],
      "execution_count": 29,
      "outputs": []
    },
    {
      "cell_type": "code",
      "metadata": {
        "id": "a6cZfsObNIcj"
      },
      "source": [
        "s = np.array(dt['Diện tích'])\n",
        "p = np.array(dt['Giá'])"
      ],
      "execution_count": 59,
      "outputs": []
    },
    {
      "cell_type": "code",
      "metadata": {
        "colab": {
          "base_uri": "https://localhost:8080/"
        },
        "id": "_RnBmGf-NVVb",
        "outputId": "b5c7dc55-374b-45ae-d6a4-d38c17f8a079"
      },
      "source": [
        "s"
      ],
      "execution_count": 60,
      "outputs": [
        {
          "output_type": "execute_result",
          "data": {
            "text/plain": [
              "array([ 30.    ,  32.4138,  34.8276,  37.2414,  39.6552,  42.069 ,\n",
              "        44.4828,  46.8966,  49.3103,  51.7241,  54.1379,  56.5517,\n",
              "        58.9655,  61.3793,  63.7931,  66.2069,  68.6207,  71.0345,\n",
              "        73.4483,  75.8621,  78.2759,  80.6897,  83.1034,  85.5172,\n",
              "        87.931 ,  90.3448,  92.7586,  95.1724,  97.5862, 100.    ])"
            ]
          },
          "metadata": {},
          "execution_count": 60
        }
      ]
    },
    {
      "cell_type": "code",
      "metadata": {
        "colab": {
          "base_uri": "https://localhost:8080/"
        },
        "id": "p0g2mP09OPA5",
        "outputId": "fb4d1e35-7394-44a8-d15e-faee790711bb"
      },
      "source": [
        "p"
      ],
      "execution_count": 61,
      "outputs": [
        {
          "output_type": "execute_result",
          "data": {
            "text/plain": [
              "array([ 448.52 ,  509.248,  535.104,  551.432,  623.418,  625.992,\n",
              "        655.248,  701.377,  748.918,  757.881,  831.004,  855.409,\n",
              "        866.707,  902.545,  952.261,  995.531, 1069.78 , 1074.42 ,\n",
              "       1103.88 , 1138.69 , 1153.13 , 1240.27 , 1251.9  , 1287.97 ,\n",
              "       1320.47 , 1374.92 , 1410.16 , 1469.69 , 1478.54 , 1515.28 ])"
            ]
          },
          "metadata": {},
          "execution_count": 61
        }
      ]
    },
    {
      "cell_type": "code",
      "metadata": {
        "id": "DJSeHthIOfbW"
      },
      "source": [
        "model = LinearRegression()"
      ],
      "execution_count": 62,
      "outputs": []
    },
    {
      "cell_type": "code",
      "metadata": {
        "id": "BNlPXGPSOQFx"
      },
      "source": [
        "s = s.reshape(-1, 1)"
      ],
      "execution_count": 76,
      "outputs": []
    },
    {
      "cell_type": "code",
      "metadata": {
        "colab": {
          "base_uri": "https://localhost:8080/"
        },
        "id": "j39bnS0rOjBL",
        "outputId": "10100da0-fbcf-4f5a-a824-bd5f2b9cb764"
      },
      "source": [
        "model.fit(s,p)"
      ],
      "execution_count": 65,
      "outputs": [
        {
          "output_type": "execute_result",
          "data": {
            "text/plain": [
              "LinearRegression(copy_X=True, fit_intercept=True, n_jobs=None, normalize=False)"
            ]
          },
          "metadata": {},
          "execution_count": 65
        }
      ]
    },
    {
      "cell_type": "code",
      "metadata": {
        "id": "ybTd2awLOYkc"
      },
      "source": [
        "p_predict = model.predict(s)"
      ],
      "execution_count": 66,
      "outputs": []
    },
    {
      "cell_type": "code",
      "metadata": {
        "colab": {
          "base_uri": "https://localhost:8080/",
          "height": 265
        },
        "id": "qzRvUel7OoVn",
        "outputId": "2baef617-b4a8-4d12-de55-c0f8de504073"
      },
      "source": [
        "plt.scatter(s, p)\n",
        "plt.plot(s, p_predict, color='black')\n",
        "plt.show()"
      ],
      "execution_count": 67,
      "outputs": [
        {
          "output_type": "display_data",
          "data": {
            "image/png": "[encoded data removed]",
            "text/plain": [
              "<Figure size 432x288 with 1 Axes>"
            ]
          },
          "metadata": {
            "needs_background": "light"
          }
        }
      ]
    },
    {
      "cell_type": "code",
      "metadata": {
        "colab": {
          "base_uri": "https://localhost:8080/"
        },
        "id": "s-tVeuaoQUh3",
        "outputId": "ccddd956-7423-4b7a-d527-ccec64b0cf75"
      },
      "source": [
        "# Dự đoán giá các căn nhà có diện tích 50, 100, 150\n",
        "new_s = np.array([50, 100, 150])\n",
        "new_p = new_s.reshape(-1, 1)\n",
        "new_p"
      ],
      "execution_count": 79,
      "outputs": [
        {
          "output_type": "execute_result",
          "data": {
            "text/plain": [
              "array([[ 50],\n",
              "       [100],\n",
              "       [150]])"
            ]
          },
          "metadata": {},
          "execution_count": 79
        }
      ]
    },
    {
      "cell_type": "code",
      "metadata": {
        "colab": {
          "base_uri": "https://localhost:8080/"
        },
        "id": "H5tHC2ZpQQlQ",
        "outputId": "ba094d1e-23a7-474e-f618-04b8e821c4fd"
      },
      "source": [
        "model.predict(new_p)"
      ],
      "execution_count": 80,
      "outputs": [
        {
          "output_type": "execute_result",
          "data": {
            "text/plain": [
              "array([ 753.48997764, 1514.04505218, 2274.60012673])"
            ]
          },
          "metadata": {},
          "execution_count": 80
        }
      ]
    }
  ]
}